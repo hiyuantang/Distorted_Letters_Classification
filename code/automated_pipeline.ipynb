{
 "cells": [
  {
   "cell_type": "code",
   "execution_count": 1,
   "metadata": {},
   "outputs": [],
   "source": [
    "import time\n",
    "import pandas as pd\n",
    "import seaborn as sns\n",
    "import matplotlib.pyplot as plt\n",
    "import numpy as np\n",
    "from matplotlib.lines import Line2D\n",
    "from sklearn.decomposition import PCA\n",
    "from sklearn.model_selection import train_test_split\n",
    "from sklearn.preprocessing import StandardScaler\n",
    "from sklearn.model_selection import KFold, StratifiedKFold\n",
    "from sklearn.model_selection import GridSearchCV\n",
    "from sklearn.pipeline import Pipeline\n",
    "from sklearn.neighbors import KNeighborsClassifier\n",
    "from sklearn.metrics import accuracy_score\n",
    "from sklearn.metrics import confusion_matrix\n",
    "\n",
    "#plt.rcParams[\"figure.figsize\"] = (10,10)"
   ]
  },
  {
   "cell_type": "code",
   "execution_count": 2,
   "metadata": {},
   "outputs": [
    {
     "data": {
      "text/html": [
       "<div>\n",
       "<style scoped>\n",
       "    .dataframe tbody tr th:only-of-type {\n",
       "        vertical-align: middle;\n",
       "    }\n",
       "\n",
       "    .dataframe tbody tr th {\n",
       "        vertical-align: top;\n",
       "    }\n",
       "\n",
       "    .dataframe thead th {\n",
       "        text-align: right;\n",
       "    }\n",
       "</style>\n",
       "<table border=\"1\" class=\"dataframe\">\n",
       "  <thead>\n",
       "    <tr style=\"text-align: right;\">\n",
       "      <th></th>\n",
       "      <th>letter</th>\n",
       "      <th>x-box</th>\n",
       "      <th>y-box</th>\n",
       "      <th>width</th>\n",
       "      <th>high</th>\n",
       "      <th>onpix</th>\n",
       "      <th>x-bar</th>\n",
       "      <th>y-bar</th>\n",
       "      <th>x2bar</th>\n",
       "      <th>y2bar</th>\n",
       "      <th>xybar</th>\n",
       "      <th>x2ybr</th>\n",
       "      <th>xy2br</th>\n",
       "      <th>x-ege</th>\n",
       "      <th>xegvy</th>\n",
       "      <th>y-ege</th>\n",
       "      <th>yegvx</th>\n",
       "    </tr>\n",
       "  </thead>\n",
       "  <tbody>\n",
       "    <tr>\n",
       "      <th>0</th>\n",
       "      <td>T</td>\n",
       "      <td>2</td>\n",
       "      <td>8</td>\n",
       "      <td>3</td>\n",
       "      <td>5</td>\n",
       "      <td>1</td>\n",
       "      <td>8</td>\n",
       "      <td>13</td>\n",
       "      <td>0</td>\n",
       "      <td>6</td>\n",
       "      <td>6</td>\n",
       "      <td>10</td>\n",
       "      <td>8</td>\n",
       "      <td>0</td>\n",
       "      <td>8</td>\n",
       "      <td>0</td>\n",
       "      <td>8</td>\n",
       "    </tr>\n",
       "    <tr>\n",
       "      <th>1</th>\n",
       "      <td>I</td>\n",
       "      <td>5</td>\n",
       "      <td>12</td>\n",
       "      <td>3</td>\n",
       "      <td>7</td>\n",
       "      <td>2</td>\n",
       "      <td>10</td>\n",
       "      <td>5</td>\n",
       "      <td>5</td>\n",
       "      <td>4</td>\n",
       "      <td>13</td>\n",
       "      <td>3</td>\n",
       "      <td>9</td>\n",
       "      <td>2</td>\n",
       "      <td>8</td>\n",
       "      <td>4</td>\n",
       "      <td>10</td>\n",
       "    </tr>\n",
       "    <tr>\n",
       "      <th>2</th>\n",
       "      <td>D</td>\n",
       "      <td>4</td>\n",
       "      <td>11</td>\n",
       "      <td>6</td>\n",
       "      <td>8</td>\n",
       "      <td>6</td>\n",
       "      <td>10</td>\n",
       "      <td>6</td>\n",
       "      <td>2</td>\n",
       "      <td>6</td>\n",
       "      <td>10</td>\n",
       "      <td>3</td>\n",
       "      <td>7</td>\n",
       "      <td>3</td>\n",
       "      <td>7</td>\n",
       "      <td>3</td>\n",
       "      <td>9</td>\n",
       "    </tr>\n",
       "    <tr>\n",
       "      <th>3</th>\n",
       "      <td>N</td>\n",
       "      <td>7</td>\n",
       "      <td>11</td>\n",
       "      <td>6</td>\n",
       "      <td>6</td>\n",
       "      <td>3</td>\n",
       "      <td>5</td>\n",
       "      <td>9</td>\n",
       "      <td>4</td>\n",
       "      <td>6</td>\n",
       "      <td>4</td>\n",
       "      <td>4</td>\n",
       "      <td>10</td>\n",
       "      <td>6</td>\n",
       "      <td>10</td>\n",
       "      <td>2</td>\n",
       "      <td>8</td>\n",
       "    </tr>\n",
       "    <tr>\n",
       "      <th>4</th>\n",
       "      <td>G</td>\n",
       "      <td>2</td>\n",
       "      <td>1</td>\n",
       "      <td>3</td>\n",
       "      <td>1</td>\n",
       "      <td>1</td>\n",
       "      <td>8</td>\n",
       "      <td>6</td>\n",
       "      <td>6</td>\n",
       "      <td>6</td>\n",
       "      <td>6</td>\n",
       "      <td>5</td>\n",
       "      <td>9</td>\n",
       "      <td>1</td>\n",
       "      <td>7</td>\n",
       "      <td>5</td>\n",
       "      <td>10</td>\n",
       "    </tr>\n",
       "  </tbody>\n",
       "</table>\n",
       "</div>"
      ],
      "text/plain": [
       "  letter  x-box  y-box  width  high  onpix  x-bar  y-bar  x2bar  y2bar  xybar  \\\n",
       "0      T      2      8      3     5      1      8     13      0      6      6   \n",
       "1      I      5     12      3     7      2     10      5      5      4     13   \n",
       "2      D      4     11      6     8      6     10      6      2      6     10   \n",
       "3      N      7     11      6     6      3      5      9      4      6      4   \n",
       "4      G      2      1      3     1      1      8      6      6      6      6   \n",
       "\n",
       "   x2ybr  xy2br  x-ege  xegvy  y-ege  yegvx  \n",
       "0     10      8      0      8      0      8  \n",
       "1      3      9      2      8      4     10  \n",
       "2      3      7      3      7      3      9  \n",
       "3      4     10      6     10      2      8  \n",
       "4      5      9      1      7      5     10  "
      ]
     },
     "execution_count": 2,
     "metadata": {},
     "output_type": "execute_result"
    }
   ],
   "source": [
    "# Original dataframe\n",
    "attrs = [\"letter\", \"x-box\", \"y-box\", \"width\", \"high\", \"onpix\", \"x-bar\",\n",
    "         \"y-bar\", \"x2bar\", \"y2bar\", \"xybar\", \"x2ybr\", \"xy2br\", \"x-ege\",\n",
    "         \"xegvy\", \"y-ege\", \"yegvx\"]\n",
    "df = pd.read_csv(\"data/letter-recognition.data\", names=attrs)\n",
    "df.head()"
   ]
  },
  {
   "cell_type": "code",
   "execution_count": 3,
   "metadata": {},
   "outputs": [],
   "source": [
    "# data split\n",
    "X, Y = df.iloc[:, 1:], df.iloc[:, 0]\n",
    "#X = StandardScaler().fit_transform(X)\n",
    "\n",
    "X_train, X_test, Y_train, Y_test = train_test_split(X, Y, \n",
    "                                                    train_size = 0.8, \n",
    "                                                    random_state = 8,\n",
    "                                                    shuffle = True,\n",
    "                                                    stratify = Y)"
   ]
  },
  {
   "cell_type": "code",
   "execution_count": 4,
   "metadata": {},
   "outputs": [
    {
     "name": "stdout",
     "output_type": "stream",
     "text": [
      "Start session 2\n",
      "Start session 3\n",
      "Start session 4\n",
      "Start session 5\n",
      "Start session 6\n",
      "Start session 7\n",
      "Start session 8\n",
      "Start session 9\n",
      "Start session 10\n",
      "Start session 11\n",
      "Start session 12\n",
      "Start session 13\n",
      "Start session 14\n"
     ]
    }
   ],
   "source": [
    "Ks = np.arange(1, 57, 2)\n",
    "# Time elapsed of fitting KNN with each number of principal component\n",
    "performance = []\n",
    "# Contains the k-value and the weight scheme of each best KNN\n",
    "best_knns = []\n",
    "# Train and test accuracy\n",
    "accuracy = []\n",
    "\n",
    "for i in range(2, 15):\n",
    "    print(\"Start session\", i)\n",
    "    \n",
    "    # PCA\n",
    "    pca_ = PCA(n_components=i).fit(X_train)\n",
    "    pca_result_ = pca_.transform(X_train)\n",
    "    pca_test_ = pca_.transform(X_test)\n",
    "    \n",
    "    # Find best KNN\n",
    "    pipe_ = Pipeline([('knn', KNeighborsClassifier())])\n",
    "    search_space_ = [\n",
    "        {'knn': [KNeighborsClassifier()],\n",
    "         'knn__weights': ['uniform', 'distance'],\n",
    "         'knn__n_neighbors': Ks\n",
    "        }\n",
    "    ]\n",
    "    search_ = GridSearchCV(pipe_,\n",
    "                           search_space_,\n",
    "                           scoring = 'accuracy',\n",
    "                           n_jobs = -1,\n",
    "                           refit=False,\n",
    "                           cv = StratifiedKFold(n_splits=5),\n",
    "                           verbose = 0)\n",
    "    \n",
    "    start_ = time.time()\n",
    "    best_knn_ = search_.fit(pca_result_, Y_train)\n",
    "    end_ = time.time()\n",
    "    \n",
    "    best_knn_info_ = best_knn_.cv_results_['params'][np.argmin(best_knn_.cv_results_['rank_test_score'])]\n",
    "    best_k_ = best_knn_info_[\"knn__n_neighbors\"]\n",
    "    best_weights_ = best_knn_info_[\"knn__weights\"]\n",
    "    \n",
    "    # Fit with best KNN\n",
    "    knn_ = KNeighborsClassifier(weights = best_knn_info_.get('knn__weights'),\n",
    "                                n_neighbors = best_knn_info_.get('knn__n_neighbors'))\n",
    "    knn_.fit(pca_result_, Y_train)\n",
    "    train_acc_ = accuracy_score(Y_train, knn_.predict(pca_result_))\n",
    "    test_acc_ = accuracy_score(Y_test, knn_.predict(pca_test_))\n",
    "    \n",
    "    best_knns.append([best_k_])\n",
    "    best_knns[-1].append(best_weights_)\n",
    "    performance.append(end_ - start_)\n",
    "    accuracy.append([train_acc_])\n",
    "    accuracy[-1].append(test_acc_)"
   ]
  },
  {
   "cell_type": "code",
   "execution_count": 5,
   "metadata": {
    "scrolled": true
   },
   "outputs": [
    {
     "data": {
      "text/plain": [
       "[7.74500298500061,\n",
       " 4.930001974105835,\n",
       " 6.123000144958496,\n",
       " 7.440003156661987,\n",
       " 9.969001054763794,\n",
       " 13.347005128860474,\n",
       " 16.54200315475464,\n",
       " 20.425069093704224,\n",
       " 24.949005842208862,\n",
       " 29.20235013961792,\n",
       " 31.973036527633667,\n",
       " 37.17419362068176,\n",
       " 43.85900282859802]"
      ]
     },
     "execution_count": 5,
     "metadata": {},
     "output_type": "execute_result"
    }
   ],
   "source": [
    "performance"
   ]
  },
  {
   "cell_type": "code",
   "execution_count": 14,
   "metadata": {},
   "outputs": [
    {
     "data": {
      "image/png": "[encoded data removed]",
      "text/plain": [
       "<Figure size 432x288 with 1 Axes>"
      ]
     },
     "metadata": {
      "needs_background": "light"
     },
     "output_type": "display_data"
    }
   ],
   "source": [
    "sns.lineplot(x=range(2, 15), y=performance, marker=\"o\")\n",
    "plt.title(\"Elapsed time of KNN fitting for different PCA\")\n",
    "plt.xlabel(\"Components used\")\n",
    "plt.ylabel(\"Time elapsed fitting KNN (second)\")\n",
    "plt.show()"
   ]
  },
  {
   "cell_type": "code",
   "execution_count": 7,
   "metadata": {
    "scrolled": false
   },
   "outputs": [
    {
     "data": {
      "text/plain": [
       "[[55, 'distance'],\n",
       " [49, 'distance'],\n",
       " [11, 'distance'],\n",
       " [9, 'distance'],\n",
       " [5, 'distance'],\n",
       " [5, 'distance'],\n",
       " [5, 'distance'],\n",
       " [3, 'distance'],\n",
       " [3, 'distance'],\n",
       " [3, 'distance'],\n",
       " [3, 'distance'],\n",
       " [1, 'uniform'],\n",
       " [5, 'distance']]"
      ]
     },
     "execution_count": 7,
     "metadata": {},
     "output_type": "execute_result"
    }
   ],
   "source": [
    "best_knns"
   ]
  },
  {
   "cell_type": "code",
   "execution_count": 15,
   "metadata": {},
   "outputs": [
    {
     "data": {
      "image/png": "[encoded data removed]",
      "text/plain": [
       "<Figure size 432x288 with 1 Axes>"
      ]
     },
     "metadata": {
      "needs_background": "light"
     },
     "output_type": "display_data"
    }
   ],
   "source": [
    "sns.lineplot(x=range(2, 15), y=np.array(best_knns)[:,0], color=\"r\", marker=\"o\")\n",
    "plt.title(\"Best k-value of KNN after each PCA by components used\")\n",
    "plt.xlabel(\"Components used\")\n",
    "plt.ylabel(\"Best k-value\")\n",
    "plt.show()"
   ]
  },
  {
   "cell_type": "code",
   "execution_count": 9,
   "metadata": {},
   "outputs": [
    {
     "data": {
      "text/plain": [
       "[[1.0, 0.25825],\n",
       " [1.0, 0.45125],\n",
       " [1.0, 0.6395],\n",
       " [1.0, 0.74125],\n",
       " [1.0, 0.8325],\n",
       " [1.0, 0.877],\n",
       " [1.0, 0.89875],\n",
       " [1.0, 0.9225],\n",
       " [1.0, 0.93325],\n",
       " [1.0, 0.9395],\n",
       " [1.0, 0.9485],\n",
       " [1.0, 0.95575],\n",
       " [1.0, 0.95575]]"
      ]
     },
     "execution_count": 9,
     "metadata": {},
     "output_type": "execute_result"
    }
   ],
   "source": [
    "accuracy"
   ]
  },
  {
   "cell_type": "code",
   "execution_count": 16,
   "metadata": {},
   "outputs": [
    {
     "data": {
      "image/png": "[encoded data removed]",
      "text/plain": [
       "<Figure size 432x288 with 1 Axes>"
      ]
     },
     "metadata": {
      "needs_background": "light"
     },
     "output_type": "display_data"
    }
   ],
   "source": [
    "sns.lineplot(x=range(2, 15), y=np.array(accuracy)[:,1], color=\"g\", marker=\"o\")\n",
    "plt.title(\"Test accuracy of KNN after each PCA by components used\")\n",
    "plt.xlabel(\"Components used\")\n",
    "plt.ylabel(\"Accuracy\")\n",
    "plt.show()"
   ]
  },
  {
   "cell_type": "code",
   "execution_count": null,
   "metadata": {},
   "outputs": [],
   "source": []
  },
  {
   "cell_type": "code",
   "execution_count": 18,
   "metadata": {},
   "outputs": [],
   "source": [
    "# PCA\n",
    "pca_ = PCA(n_components=13).fit(X)\n",
    "pca_result_ = pca_.transform(X)\n",
    "\n",
    "# Find best KNN\n",
    "pipe_ = Pipeline([('knn', KNeighborsClassifier())])\n",
    "search_space_ = [\n",
    "    {'knn': [KNeighborsClassifier()],\n",
    "     'knn__weights': ['uniform', 'distance'],\n",
    "     'knn__n_neighbors': Ks\n",
    "    }\n",
    "]\n",
    "search_ = GridSearchCV(pipe_,\n",
    "                       search_space_,\n",
    "                       scoring = 'accuracy',\n",
    "                       n_jobs = -1,\n",
    "                       refit=False,\n",
    "                       cv = StratifiedKFold(n_splits=5),\n",
    "                       verbose = 0)\n",
    "\n",
    "start_ = time.time()\n",
    "best_knn_ = search_.fit(pca_result_, Y)\n",
    "end_ = time.time()\n",
    "\n",
    "best_knn_info_ = best_knn_.cv_results_['params'][np.argmin(best_knn_.cv_results_['rank_test_score'])]\n",
    "best_k_ = best_knn_info_[\"knn__n_neighbors\"]\n",
    "best_weights_ = best_knn_info_[\"knn__weights\"]\n",
    "\n",
    "# Fit with best KNN\n",
    "knn_ = KNeighborsClassifier(weights = best_knn_info_.get('knn__weights'),\n",
    "                            n_neighbors = best_knn_info_.get('knn__n_neighbors'))\n",
    "knn_.fit(pca_result_, Y)\n",
    "acc_ = accuracy_score(Y, knn_.predict(pca_result_))"
   ]
  },
  {
   "cell_type": "code",
   "execution_count": null,
   "metadata": {},
   "outputs": [],
   "source": []
  }
 ],
 "metadata": {
  "kernelspec": {
   "display_name": "Python 3",
   "language": "python",
   "name": "python3"
  },
  "language_info": {
   "codemirror_mode": {
    "name": "ipython",
    "version": 3
   },
   "file_extension": ".py",
   "mimetype": "text/x-python",
   "name": "python",
   "nbconvert_exporter": "python",
   "pygments_lexer": "ipython3",
   "version": "3.8.5"
  }
 },
 "nbformat": 4,
 "nbformat_minor": 4
}
